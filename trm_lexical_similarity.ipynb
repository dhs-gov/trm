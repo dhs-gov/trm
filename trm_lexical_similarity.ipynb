{
 "cells": [
  {
   "cell_type": "markdown",
   "metadata": {
    "slideshow": {
     "slide_type": "slide"
    },
    "tags": []
   },
   "source": [
    "# TRM Lexical Similarity Tests\n",
    "This notebook tests *lexical* similarity between a scanned manfacturer name and a TRM manfacturer name. Since manufacturer names comprise single words or phrases and not sentences containing context, we do not perform *semantic* similarity using, for example, BERT. Further, we do not use any packages that rely on dictionaries for performing word similarity, such as gensim. "
   ]
  },
  {
   "cell_type": "markdown",
   "metadata": {},
   "source": [
    "## Read Data\n",
    "### Official TRM Data\n",
    "Get the manufacturer names and IDs from the official TRM dataset."
   ]
  },
  {
   "cell_type": "code",
   "execution_count": 40,
   "metadata": {},
   "outputs": [
    {
     "name": "stdout",
     "output_type": "stream",
     "text": [
      "TRM rows (dedup): 3675\n"
     ]
    }
   ],
   "source": [
    "# Read official TRM XLSX into a Pandas DataFrame.\n",
    "import pandas as pd\n",
    "\n",
    "# Read official TRM data\n",
    "df_trm = pd.read_excel('C:\\\\work\\\\trm\\\\ramya_files\\\\TRM_official.xlsx', sheet_name='1 - component-baseline')\n",
    "#print(f'Column headings:\\n{df_trm.columns}')\n",
    "#print(f'Num rows: {len(df_trm.index)}')\n",
    "\n",
    "# Remove rows with duplicate manufacturer name\n",
    "df_trm_dedup = df_trm.drop_duplicates(subset=['Manufacturer Name'])\n",
    "print(f'TRM rows (dedup): {len(df_trm_dedup.index)}')\n",
    "\n",
    "# Sort row by ascending manufacturer names\n",
    "df_trm_dedup_sorted = df_trm_dedup.sort_values(by=['Manufacturer Name'])\n",
    "\n",
    "# Get Manufacturer Names\n",
    "trm_mfr_names = df_trm_dedup_sorted['Manufacturer Name']\n",
    "#print(f'trm_mfr_names: {trm_mfr_names}')\n",
    "# Get Manufacturer IDs\n",
    "trm_mfr_id = df_trm_dedup_sorted['Manufacturer ID']"
   ]
  },
  {
   "cell_type": "markdown",
   "metadata": {},
   "source": [
    "### (Scanned) Input Data\n",
    "Get the input data (scanned from the network) and Ramya's predicted results. We will use Ramya's predicted results as the results we are expected to get."
   ]
  },
  {
   "cell_type": "code",
   "execution_count": 52,
   "metadata": {},
   "outputs": [
    {
     "name": "stdout",
     "output_type": "stream",
     "text": [
      "Scan rows (dedup): 875\n",
      "expected_mfr_names: 7      Cisco Systems\n",
      "776           McAfee\n",
      "873              NaN\n",
      "874              NaN\n",
      "868              NaN\n",
      "           ...      \n",
      "70               NaN\n",
      "65               NaN\n",
      "0          Microsoft\n",
      "59               NaN\n",
      "60               NaN\n",
      "Name: predict_manufacturer, Length: 94, dtype: object\n"
     ]
    }
   ],
   "source": [
    "# Read the scanned manufacturer data\n",
    "df_scan = pd.read_csv('C:\\\\work\\\\trm\\\\ramya_files\\\\Manufacturer_LRpredictions_2.csv')\n",
    "#print(f'Column headings:\\n{df_scan.columns}')\n",
    "print(f'Scan rows (dedup): {len(df_scan.index)}')\n",
    "\n",
    "# Remove rows with duplicate manufacturer name. Note columns G and H are predicted TRM values.\n",
    "df_scan_dedup = df_scan.drop_duplicates(subset=['manufacturer'])\n",
    "#print(f'Dedup num rows: {len(df_scan_dedup.index)}')\n",
    "\n",
    "# Sort row by ascending manufacturer names\n",
    "df_scan_dedup_sorted = df_scan_dedup.sort_values(by=['manufacturer'])\n",
    "\n",
    "# Get scanned Manufacturer Names\n",
    "scan_mfr_names = df_scan_dedup_sorted['manufacturer']\n",
    "#print(f'scan_mfr_names: {scan_mfr_names}')\n",
    "\n",
    "# Get Ramya's predicted results that we will use as our expected results\n",
    "expected_mfr_names = df_scan_dedup_sorted['predict_manufacturer']\n",
    "print(f'expected_mfr_names: {expected_mfr_names}')\n",
    "# Convert to list for extraction of expected mfr names\n",
    "expected_mfr_names_list = list(expected_mfr_names)"
   ]
  },
  {
   "cell_type": "markdown",
   "metadata": {
    "slideshow": {
     "slide_type": "slide"
    }
   },
   "source": [
    "## Lexical Similarity Analyses\n",
    "### SpaCy"
   ]
  },
  {
   "cell_type": "code",
   "execution_count": 86,
   "metadata": {},
   "outputs": [
    {
     "name": "stdout",
     "output_type": "stream",
     "text": [
      "Analyzing scan word 0 of 94\r"
     ]
    },
    {
     "name": "stderr",
     "output_type": "stream",
     "text": [
      "C:\\Users\\SQuirol\\AppData\\Local\\Temp\\1\\ipykernel_5508\\3077661415.py:17: UserWarning: [W008] Evaluating Doc.similarity based on empty vectors.\n",
      "  sim_score = scan_mfr_tokens.similarity(trm_mfr_tokens)\n"
     ]
    },
    {
     "name": "stdout",
     "output_type": "stream",
     "text": [
      "scan=Cisco, pred=Cisco Systems, score=0.8021419966775432, expected=Cisco Systems, match=1\n",
      "scan=McAfee, pred=McAfee, score=1.0, expected=McAfee, match=1\n"
     ]
    }
   ],
   "source": [
    "import spacy\n",
    "\n",
    "# SpaCy en_core_web_lg contains word vectors -- en_core_web_sm does not.\n",
    "nlp = spacy.load(\"en_core_web_lg\")\n",
    "\n",
    "results = []\n",
    "rows = len(scan_mfr_names)\n",
    "#for i, scan_mfr in enumerate(scan_mfr_names):\n",
    "for i, scan_mfr in enumerate(scan_mfr_names):\n",
    "    print(f'Analyzing scan word {i} of {rows}', end='\\r')\n",
    "    best_sim_score = 0.0\n",
    "    scan_index = -1\n",
    "    best_mfr_name = None\n",
    "    for trm_mfr in trm_mfr_names:\n",
    "        scan_mfr_tokens = nlp(scan_mfr)\n",
    "        trm_mfr_tokens = nlp(trm_mfr)\n",
    "        sim_score = scan_mfr_tokens.similarity(trm_mfr_tokens)\n",
    "        if sim_score > best_sim_score:\n",
    "            best_sim_score = sim_score\n",
    "            best_mfr_name = trm_mfr\n",
    "            scan_index = i\n",
    "            \n",
    "    matches_expected = 0\n",
    "    #print(f\"best_mfr_name: {best_mfr_name}\")\n",
    "    #print(f\"scan_index: {scan_index}\")\n",
    "    #print(f\"expected_mfr_names: {expected_mfr_names_list[scan_index]}\")\n",
    "    if best_mfr_name == expected_mfr_names_list[scan_index]:\n",
    "        matches_expected = 1\n",
    "    r = []\n",
    "    r.append(scan_mfr)      # Scan mfr name\n",
    "    r.append(best_mfr_name)  # Best mfr name\n",
    "    r.append(best_sim_score) # Sim score for best mfr name\n",
    "    r.append(expected_mfr_names_list[scan_index])    # Expected mfr name\n",
    "    r.append(matches_expected)  # Best mfr name matched expected name\n",
    "    results.append(r)\n",
    "    \n",
    "    if i == 1:\n",
    "        break\n",
    "    \n",
    "for x in results:\n",
    "    print(f'scan={x[0]}, pred={x[1]}, score={x[2]}, expected={x[3]}, match={x[4]}')"
   ]
  },
  {
   "cell_type": "markdown",
   "metadata": {},
   "source": [
    "### NLTK\n",
    "#### Levenshtein edit-distance"
   ]
  },
  {
   "cell_type": "code",
   "execution_count": 96,
   "metadata": {},
   "outputs": [
    {
     "name": "stdout",
     "output_type": "stream",
     "text": [
      "scan_mfr: Cisco, trm name: Cisco Systems, trm name reduced: Cisco, dist: 0\n",
      "scan_mfr: McAfee, trm name: Cisco Systems, trm name reduced: Cisco, dist: 6\n",
      "scan=Cisco, pred=Cisco Systems, score=0, expected=Cisco Systems, match=1\n",
      "scan=McAfee, pred=McAfee, score=0, expected=McAfee, match=1\n"
     ]
    }
   ],
   "source": [
    "import nltk\n",
    "\n",
    "results = []\n",
    "rows = len(scan_mfr_names)\n",
    "for i, scan_mfr in enumerate(scan_mfr_names):\n",
    "    print(f'Analyzing scan word {i} of {rows}', end='\\r')\n",
    "    best_dist = 100.0\n",
    "    scan_index = -1\n",
    "    best_mfr_name = None\n",
    "    trm_name = None\n",
    "    for trm_mfr in trm_mfr_names:\n",
    "        # Since edit_distance() is affected \n",
    "        if len(scan_mfr.split()) < len(trm_mfr.split()):\n",
    "            trm_name_array = trm_mfr.split()[:len(scan_mfr.split())]\n",
    "            trm_name = ' '.join(trm_name_array)\n",
    "        else:\n",
    "            trm_name = trm_mfr\n",
    "            \n",
    "        dist = nltk.edit_distance(scan_mfr, trm_name)\n",
    "        if 'Cisco' in trm_mfr:\n",
    "            print(f'scan_mfr: {scan_mfr}, trm name: {trm_mfr}, trm name reduced: {trm_name}, dist: {dist}') \n",
    "        if dist <= best_dist:\n",
    "            best_dist = dist\n",
    "            best_mfr_name = trm_mfr\n",
    "            scan_index = i\n",
    "            \n",
    "    matches_expected = 0\n",
    "    #print(f\"max_mfr_name: {max_mfr_name}\")\n",
    "    #print(f\"scan_index: {scan_index}\")\n",
    "    #print(f\"expected_mfr_names: {expected_mfr_names_list[scan_index]}\")\n",
    "    if best_mfr_name == expected_mfr_names_list[scan_index]:\n",
    "        matches_expected = 1\n",
    "    r = []\n",
    "    r.append(scan_mfr)      # Scan mfr name\n",
    "    r.append(best_mfr_name)  # Best mfr name\n",
    "    r.append(best_dist)      # Min dist for best mfr name\n",
    "    r.append(expected_mfr_names_list[scan_index])    # Expected mfr name\n",
    "    r.append(matches_expected)  # Best mfr name matched expected name\n",
    "    results.append(r)\n",
    "    \n",
    "    if i == 1:\n",
    "        break\n",
    "    \n",
    "for x in results:\n",
    "    print(f'scan={x[0]}, pred={x[1]}, score={x[2]}, expected={x[3]}, match={x[4]}')"
   ]
  },
  {
   "cell_type": "markdown",
   "metadata": {},
   "source": [
    "#### Jaccard Distance"
   ]
  },
  {
   "cell_type": "code",
   "execution_count": 97,
   "metadata": {},
   "outputs": [
    {
     "name": "stdout",
     "output_type": "stream",
     "text": [
      "scan_mfr: Cisco, trm name: Cisco Systems, trm name reduced: Cisco, dist: 0.0\n",
      "scan_mfr: McAfee, trm name: Cisco Systems, trm name reduced: Cisco, dist: 0.8888888888888888\n",
      "scan=Cisco, pred=Cisco Systems, score=0.0, expected=Cisco Systems, match=1\n",
      "scan=McAfee, pred=McAfee, score=0.0, expected=McAfee, match=1\n"
     ]
    }
   ],
   "source": [
    "results = []\n",
    "rows = len(scan_mfr_names)\n",
    "for i, scan_mfr in enumerate(scan_mfr_names):\n",
    "    print(f'Analyzing scan word {i} of {rows}', end='\\r')\n",
    "    best_dist = 100.0\n",
    "    scan_index = -1\n",
    "    best_mfr_name = None\n",
    "    trm_name = None\n",
    "    for trm_mfr in trm_mfr_names:\n",
    "        # Since edit_distance() is affected \n",
    "        if len(scan_mfr.split()) < len(trm_mfr.split()):\n",
    "            trm_name_array = trm_mfr.split()[:len(scan_mfr.split())]\n",
    "            trm_name = ' '.join(trm_name_array)\n",
    "        else:\n",
    "            trm_name = trm_mfr\n",
    "            \n",
    "        dist = nltk.jaccard_distance(set(scan_mfr), set(trm_name))\n",
    "        if 'Cisco' in trm_mfr:\n",
    "            print(f'scan_mfr: {scan_mfr}, trm name: {trm_mfr}, trm name reduced: {trm_name}, dist: {dist}') \n",
    "        if dist <= best_dist:\n",
    "            best_dist = dist\n",
    "            best_mfr_name = trm_mfr\n",
    "            scan_index = i\n",
    "            \n",
    "    matches_expected = 0\n",
    "    #print(f\"max_mfr_name: {max_mfr_name}\")\n",
    "    #print(f\"scan_index: {scan_index}\")\n",
    "    #print(f\"expected_mfr_names: {expected_mfr_names_list[scan_index]}\")\n",
    "    if best_mfr_name == expected_mfr_names_list[scan_index]:\n",
    "        matches_expected = 1\n",
    "    r = []\n",
    "    r.append(scan_mfr)      # Scan mfr name\n",
    "    r.append(best_mfr_name)  # Best mfr name\n",
    "    r.append(best_dist)      # Min dist for best mfr name\n",
    "    r.append(expected_mfr_names_list[scan_index])    # Expected mfr name\n",
    "    r.append(matches_expected)  # Best mfr name matched expected name\n",
    "    results.append(r)\n",
    "    \n",
    "    if i == 1:\n",
    "        break\n",
    "    \n",
    "for x in results:\n",
    "    print(f'scan={x[0]}, pred={x[1]}, score={x[2]}, expected={x[3]}, match={x[4]}')"
   ]
  },
  {
   "cell_type": "markdown",
   "metadata": {},
   "source": [
    "### Word2Vec with Cosign similarity"
   ]
  },
  {
   "cell_type": "code",
   "execution_count": 109,
   "metadata": {},
   "outputs": [
    {
     "name": "stdout",
     "output_type": "stream",
     "text": [
      "sim > best_dist: scan_mfr: Cisco, trm name: 2BrightSparks, trm name reduced: 2BrightSparks, dist: 0.2309401076758503\n",
      "sim > best_dist: scan_mfr: Cisco, trm name: 3DVista, trm name reduced: 3DVista, dist: 0.3380617018914066\n",
      "sim > best_dist: scan_mfr: Cisco, trm name: 4Bits Ltd., trm name reduced: 4Bits, dist: 0.39999999999999997\n",
      "sim > best_dist: scan_mfr: Cisco, trm name: AccessData Group, trm name reduced: AccessData, dist: 0.4472135954999579\n",
      "sim > best_dist: scan_mfr: Cisco, trm name: Accordion, trm name reduced: Accordion, dist: 0.6201736729460423\n",
      "sim > best_dist: scan_mfr: Cisco, trm name: Acronis International GmbH, trm name reduced: Acronis, dist: 0.6761234037828132\n",
      "sim > best_dist: scan_mfr: Cisco, trm name: Association of American Railroads, trm name reduced: Association, dist: 0.7592566023652966\n",
      "sim > best_dist: scan_mfr: Cisco, trm name: Circos, trm name reduced: Circos, dist: 0.912870929175277\n",
      "scan_mfr: Cisco, trm name: Cisco Systems, trm name reduced: Cisco, sim: 1.0, currebest: 0.912870929175277\n",
      "sim > best_dist: scan_mfr: Cisco, trm name: Cisco Systems, trm name reduced: Cisco, dist: 1.0\n",
      "sim > best_dist: scan_mfr: McAfee, trm name: //SEIBERT/MEDIA, trm name reduced: //SEIBERT/MEDIA, dist: 0.13130643285972254\n",
      "sim > best_dist: scan_mfr: McAfee, trm name: 2mdc, trm name reduced: 2mdc, dist: 0.17677669529663687\n",
      "sim > best_dist: scan_mfr: McAfee, trm name: 3M, trm name reduced: 3M, dist: 0.24999999999999997\n",
      "sim > best_dist: scan_mfr: McAfee, trm name: A Must in Every Office, trm name reduced: A, dist: 0.35355339059327373\n",
      "sim > best_dist: scan_mfr: McAfee, trm name: ABiSee, trm name reduced: ABiSee, dist: 0.6249999999999999\n",
      "sim > best_dist: scan_mfr: McAfee, trm name: Accelerated Servers, trm name reduced: Accelerated, dist: 0.7299963950884313\n",
      "scan_mfr: McAfee, trm name: Cisco Systems, trm name reduced: Cisco, sim: 0.15811388300841894, currebest: 0.7299963950884313\n",
      "sim > best_dist: scan_mfr: McAfee, trm name: McAfee, trm name reduced: McAfee, dist: 0.9999999999999999\n",
      "scan=Cisco, pred=Cisco Systems, score=1.0, expected=Cisco Systems, match=1\n",
      "scan=McAfee, pred=McAfee, score=0.9999999999999999, expected=McAfee, match=1\n"
     ]
    }
   ],
   "source": [
    "def word2vec(word):\n",
    "    from collections import Counter\n",
    "    from math import sqrt\n",
    "\n",
    "    # count the characters in word\n",
    "    cw = Counter(word)\n",
    "    # precomputes a set of the different characters\n",
    "    sw = set(cw)\n",
    "    # precomputes the \"length\" of the word vector\n",
    "    lw = sqrt(sum(c*c for c in cw.values()))\n",
    "\n",
    "    # return a tuple\n",
    "    return cw, sw, lw\n",
    "\n",
    "def cosdis(v1, v2):\n",
    "    # which characters are common to the two words?\n",
    "    common = v1[1].intersection(v2[1])\n",
    "    # by definition of cosine distance we have\n",
    "    return sum(v1[0][ch]*v2[0][ch] for ch in common)/v1[2]/v2[2]\n",
    "\n",
    "\n",
    "results = []\n",
    "rows = len(scan_mfr_names)\n",
    "for i, scan_mfr in enumerate(scan_mfr_names):\n",
    "    print(f'Analyzing scan word {i} of {rows}', end='\\r')\n",
    "    best_dist = 0.0\n",
    "    scan_index = -1\n",
    "    best_mfr_name = None\n",
    "    trm_name = None\n",
    "    for trm_mfr in trm_mfr_names:\n",
    "        # Since edit_distance() is affected \n",
    "        if len(scan_mfr.split()) < len(trm_mfr.split()):\n",
    "            trm_name_array = trm_mfr.split()[:len(scan_mfr.split())]\n",
    "            trm_name = ' '.join(trm_name_array)\n",
    "        else:\n",
    "            trm_name = trm_mfr\n",
    "            \n",
    "        scan_vec = word2vec(scan_mfr)\n",
    "        trm_vec = word2vec(trm_name)\n",
    "        sim = cosdis(scan_vec, trm_vec)\n",
    "        if 'Cisco' in trm_mfr:\n",
    "            print(f'scan_mfr: {scan_mfr}, trm name: {trm_mfr}, trm name reduced: {trm_name}, sim: {sim}, currebest: {best_dist}')\n",
    "        if sim > best_dist:\n",
    "            print(f'sim > best_dist: scan_mfr: {scan_mfr}, trm name: {trm_mfr}, trm name reduced: {trm_name}, dist: {sim}')\n",
    "\n",
    "            best_dist = sim\n",
    "            best_mfr_name = trm_mfr\n",
    "            scan_index = i\n",
    "            \n",
    "    matches_expected = 0\n",
    "    #print(f\"max_mfr_name: {max_mfr_name}\")\n",
    "    #print(f\"scan_index: {scan_index}\")\n",
    "    #print(f\"expected_mfr_names: {expected_mfr_names_list[scan_index]}\")\n",
    "    if best_mfr_name == expected_mfr_names_list[scan_index]:\n",
    "        matches_expected = 1\n",
    "    r = []\n",
    "    r.append(scan_mfr)      # Scan mfr name\n",
    "    r.append(best_mfr_name)  # Best mfr name\n",
    "    r.append(best_dist)      # Min dist for best mfr name\n",
    "    r.append(expected_mfr_names_list[scan_index])    # Expected mfr name\n",
    "    r.append(matches_expected)  # Best mfr name matched expected name\n",
    "    results.append(r)\n",
    "    \n",
    "    if i == 1:\n",
    "        break\n",
    "    \n",
    "for x in results:\n",
    "    print(f'scan={x[0]}, pred={x[1]}, score={x[2]}, expected={x[3]}, match={x[4]}')\n"
   ]
  },
  {
   "cell_type": "code",
   "execution_count": 105,
   "metadata": {},
   "outputs": [
    {
     "name": "stdout",
     "output_type": "stream",
     "text": [
      "0.13130643285972254\n"
     ]
    }
   ],
   "source": [
    "        scan_vec = word2vec('McAfee')\n",
    "        trm_vec = word2vec('//SEIBERT/MEDIA')\n",
    "        sim = cosdis(scan_vec, trm_vec)\n",
    "        print(sim)"
   ]
  }
 ],
 "metadata": {
  "celltoolbar": "Slideshow",
  "interpreter": {
   "hash": "a65e8ab6709122d8eeedb731a245b9ba92924b4391628943345bea28822fe229"
  },
  "kernelspec": {
   "display_name": "Python 3 (ipykernel)",
   "language": "python",
   "name": "python3"
  },
  "language_info": {
   "codemirror_mode": {
    "name": "ipython",
    "version": 3
   },
   "file_extension": ".py",
   "mimetype": "text/x-python",
   "name": "python",
   "nbconvert_exporter": "python",
   "pygments_lexer": "ipython3",
   "version": "3.9.9"
  },
  "rise": {
   "enable_chalkboard": true,
   "scroll": true
  },
  "toc-autonumbering": false,
  "toc-showcode": false,
  "toc-showmarkdowntxt": false,
  "toc-showtags": false
 },
 "nbformat": 4,
 "nbformat_minor": 4
}
